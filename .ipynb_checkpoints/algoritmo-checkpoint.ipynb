{
 "cells": [
  {
   "cell_type": "code",
   "execution_count": 2,
   "metadata": {},
   "outputs": [],
   "source": [
    "from argument import Argument as Arg"
   ]
  },
  {
   "cell_type": "code",
   "execution_count": 3,
   "metadata": {},
   "outputs": [
    {
     "name": "stdout",
     "output_type": "stream",
     "text": [
      "        Fri       fri   Fi  fi  obj\n",
      "0  0.333333  0.333333  3.0   3    1\n",
      "1  0.666667  0.333333  6.0   3    2\n",
      "2  0.888889  0.222222  8.0   2    3\n",
      "3  1.000000  0.111111  9.0   1    4\n",
      "\n",
      "Distribuição Binomial => 0.16460905349794236\n"
     ]
    }
   ],
   "source": [
    "from distribuicao import Distribuicao as d\n",
    "di = d()\n",
    "\n",
    "data = {'x':[1,2,3,4],'y':[3,3,2,1]}\n",
    "di.calcularValores(data)\n",
    "\n",
    "di.argument = Arg({'n':5,'k':2,'p':(2/3),'q':(1/3)})\n",
    "print(\"\\nDistribuição Binomial => \" + str(di.binomial()))"
   ]
  },
  {
   "cell_type": "code",
   "execution_count": 4,
   "metadata": {
    "scrolled": true
   },
   "outputs": [
    {
     "name": "stdout",
     "output_type": "stream",
     "text": [
      "y = -0.8x + 25.2\n",
      "Previsão de x => -3.500000000000001\n"
     ]
    }
   ],
   "source": [
    "from regressao import Regressao\n",
    "\n",
    "regressao = Regressao()\n",
    "data = {'x':[17,18,19,20,21], 'y':[3,18,17,8,4]}\n",
    "regressao.calcularValores(data)\n",
    "\n",
    "print(\"y = \" + str(regressao.a()) + \"x + \" + str(regressao.b()))\n",
    "print(\"Previsão de x => \" + str(regressao.prever({'y':28})))"
   ]
  },
  {
   "cell_type": "code",
   "execution_count": 5,
   "metadata": {},
   "outputs": [
    {
     "name": "stdout",
     "output_type": "stream",
     "text": [
      "1.7548330056605133\n"
     ]
    }
   ],
   "source": [
    "from confianca import Confianca as Conf\n",
    "conf = Conf()\n",
    "conf.argument = Arg({'t':1.96,'desvio':10,'n':100,'N':500})\n",
    "print(conf.media_fin())"
   ]
  },
  {
   "cell_type": "code",
   "execution_count": 6,
   "metadata": {},
   "outputs": [
    {
     "name": "stdout",
     "output_type": "stream",
     "text": [
      "True\n"
     ]
    }
   ],
   "source": [
    "from hipotese import Hipotese as Hip\n",
    "hip = Hip()\n",
    "hip.argument = Arg({'media':182.2,'desvio':121.8,'u': 150,'n':54,'z':1.65})\n",
    "print(hip.testar())"
   ]
  },
  {
   "cell_type": "code",
   "execution_count": 7,
   "metadata": {},
   "outputs": [
    {
     "name": "stdout",
     "output_type": "stream",
     "text": [
      "         nome_municipio    maxima     media  mes\n",
      "0   São José dos Campos  8.344231  7.705591  Jan\n",
      "1   São José dos Campos  6.662505  6.302007  Fev\n",
      "2   São José dos Campos  5.545661  5.011462  Mar\n",
      "3   São José dos Campos  2.536349  2.332118  Abr\n",
      "4   São José dos Campos  1.974532  1.751176  Mai\n",
      "5   São José dos Campos  1.712367  1.473090  Jun\n",
      "6   São José dos Campos  1.800434  1.655272  Jul\n",
      "7   São José dos Campos  1.091350  0.931052  Ago\n",
      "8   São José dos Campos  2.155687  1.865100  Set\n",
      "9   São José dos Campos  4.270790  3.656610  Out\n",
      "10  São José dos Campos  5.992313  5.270545  Nov\n",
      "11  São José dos Campos  7.024462  5.972409  Dez\n",
      "\n",
      "y = -0.15x + 4.63\n",
      "\n",
      "-0.23 correlação negativa muito fraca\n"
     ]
    }
   ],
   "source": [
    "import pandas as pd\n",
    "from regressao import Regressao as Rg\n",
    "df = pd.read_csv('prec4km_clim_sjc.csv', delimiter = ',', encoding='utf-8')\n",
    "print(df)\n",
    "\n",
    "rg = Rg()\n",
    "rg.calcularValores({'x':[1,2,3,4,5,6,7,8,9,10,11,12],'y':df['media']})\n",
    "print(\"\\ny = \" + str(round(rg.a(),2)) + \"x + \" + str(round(rg.b(),2)))\n",
    "\n",
    "r = rg.coeficiente()\n",
    "resultado = str(round(r,2)) + \" correlação \"\n",
    "\n",
    "if r <= 0: resultado = resultado + \"negativa \"\n",
    "else: resultado = resultado + \"positiva \"\n",
    "\n",
    "if abs(r) == 1: resultado = resultado + \"perfeita\"\n",
    "elif abs(r) == 0: resultado = resultado + \"nula\"\n",
    "elif 0 < abs(r) < 0.3: resultado = resultado + \"muito fraca\"\n",
    "elif 0.3 <= abs(r) < 0.6: resultado = resultado + \"fraca\"\n",
    "elif 0.6 <= abs(r) <= 1: resultado = resultado + \"forte\"\n",
    "\n",
    "print(\"\\n\" + resultado)"
   ]
  },
  {
   "cell_type": "code",
   "execution_count": 8,
   "metadata": {},
   "outputs": [],
   "source": [
    "import math\n",
    "import matplotlib.pyplot as plt\n",
    "%matplotlib inline\n",
    "def montarGrafico(dicicionarioGraficoMontar, nomeArquivo): # Montar gráfico linhas\n",
    "    fig, ax = plt.subplots()\n",
    "    ax.plot(\n",
    "        dicicionarioGraficoMontar['x'],\n",
    "        dicicionarioGraficoMontar['y'],\n",
    "        linestyle = '--',\n",
    "        color = dicicionarioGraficoMontar['corLinha'],\n",
    "        marker = 's'\n",
    "    )\n",
    "    plt.scatter(dicicionarioGraficoMontar['x'], dicicionarioGraficoMontar['y'], color = dicicionarioGraficoMontar['corPontos'])\n",
    "    plt.title(dicicionarioGraficoMontar['titulo'])\n",
    "    plt.xlabel(dicicionarioGraficoMontar['xLabel'])\n",
    "    plt.ylabel(dicicionarioGraficoMontar['yLabel'])\n",
    "    plt.savefig(nomeArquivo + '.png')\n",
    "    plt.grid(True)\n",
    "    plt.show()"
   ]
  },
  {
   "cell_type": "code",
   "execution_count": 9,
   "metadata": {},
   "outputs": [
    {
     "data": {
      "image/png": "[encoded data removed]",
      "text/plain": [
       "<Figure size 432x288 with 1 Axes>"
      ]
     },
     "metadata": {
      "needs_background": "light"
     },
     "output_type": "display_data"
    }
   ],
   "source": [
    "dicicionarioGrafico = {\n",
    "    'x' : df['mes'],\n",
    "    'y' : df['media'],\n",
    "    'corPontos' : 'black',\n",
    "    'corLinha' : 'black',\n",
    "    'titulo' : 'Média Climatológica do Município de SJC-SP 1998-2019',\n",
    "    'xLabel' : 'Mês',\n",
    "    'yLabel' : 'Média'\n",
    "}\n",
    "montarGrafico(dicicionarioGrafico, 'prec4km_clim_sjc')"
   ]
  }
 ],
 "metadata": {
  "kernelspec": {
   "display_name": "Python 3",
   "language": "python",
   "name": "python3"
  },
  "language_info": {
   "codemirror_mode": {
    "name": "ipython",
    "version": 3
   },
   "file_extension": ".py",
   "mimetype": "text/x-python",
   "name": "python",
   "nbconvert_exporter": "python",
   "pygments_lexer": "ipython3",
   "version": "3.7.3"
  }
 },
 "nbformat": 4,
 "nbformat_minor": 2
}
